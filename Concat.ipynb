{
 "cells": [
  {
   "cell_type": "code",
   "execution_count": 4,
   "id": "bdd3a2dd",
   "metadata": {},
   "outputs": [],
   "source": [
    "import pandas as pd\n",
    "import pickle"
   ]
  },
  {
   "cell_type": "code",
   "execution_count": 10,
   "id": "d2d923b0",
   "metadata": {},
   "outputs": [
    {
     "data": {
      "text/plain": [
       "3060"
      ]
     },
     "execution_count": 10,
     "metadata": {},
     "output_type": "execute_result"
    }
   ],
   "source": [
    "d1 = pd.read_csv('naverblog2324.csv')\n",
    "d2 = pd.read_csv('naverblog2223.csv')\n",
    "d3 = pd.read_csv('naverblog2122.csv')\n",
    "\n",
    "blog = pd.concat([d1,d2,d3], ignore_index=True)# 인덱스번호 연결\n",
    "blog.drop_duplicates() # 중복행 제거\n",
    "len(blog) # 열 개수\n"
   ]
  },
  {
   "cell_type": "code",
   "execution_count": 11,
   "id": "bc1eec86",
   "metadata": {},
   "outputs": [],
   "source": [
    "# csv파일로 저장\n",
    "blog.to_csv('blog.csv', index = False, encoding=\"utf-8-sig\") "
   ]
  },
  {
   "cell_type": "code",
   "execution_count": 23,
   "id": "1ae4321c",
   "metadata": {},
   "outputs": [
    {
     "data": {
      "text/plain": [
       "3060"
      ]
     },
     "execution_count": 23,
     "metadata": {},
     "output_type": "execute_result"
    }
   ],
   "source": [
    "c1 = pd.read_csv('navercafe2324.csv')\n",
    "c2 = pd.read_csv('navercafe2223.csv')\n",
    "c3 = pd.read_csv('navercafe2122.csv')\n",
    "\n",
    "cafe = pd.concat([c1,c2,c3], ignore_index=True) # 인덱스번호 연결\n",
    "cafe.drop_duplicates() # 중복행 제거\n",
    "\n",
    "del cafe['post_date']\n",
    "len(cafe) # 열 개수"
   ]
  },
  {
   "cell_type": "code",
   "execution_count": 26,
   "id": "cf4f98fd",
   "metadata": {},
   "outputs": [],
   "source": [
    "cafe.to_csv('cafe.csv', index = False, encoding=\"utf-8-sig\")"
   ]
  },
  {
   "cell_type": "code",
   "execution_count": 25,
   "id": "3c2fc4a4",
   "metadata": {
    "scrolled": true
   },
   "outputs": [
    {
     "data": {
      "text/html": [
       "<div>\n",
       "<style scoped>\n",
       "    .dataframe tbody tr th:only-of-type {\n",
       "        vertical-align: middle;\n",
       "    }\n",
       "\n",
       "    .dataframe tbody tr th {\n",
       "        vertical-align: top;\n",
       "    }\n",
       "\n",
       "    .dataframe thead th {\n",
       "        text-align: right;\n",
       "    }\n",
       "</style>\n",
       "<table border=\"1\" class=\"dataframe\">\n",
       "  <thead>\n",
       "    <tr style=\"text-align: right;\">\n",
       "      <th></th>\n",
       "      <th>title</th>\n",
       "      <th>doc</th>\n",
       "      <th>like</th>\n",
       "      <th>comment_cnt</th>\n",
       "      <th>comment_list</th>\n",
       "      <th>img</th>\n",
       "      <th>div</th>\n",
       "      <th>date</th>\n",
       "      <th>ch</th>\n",
       "      <th>ch2</th>\n",
       "    </tr>\n",
       "  </thead>\n",
       "  <tbody>\n",
       "    <tr>\n",
       "      <th>0</th>\n",
       "      <td>&lt;1조&gt; 허영선 : 24시간이 모자라</td>\n",
       "      <td>\\n\\n\\n\\n\\n\\n\\n\\n\\n1) 활동 일시와 장소[일시] 2024년 4월 6일...</td>\n",
       "      <td>1.0</td>\n",
       "      <td>4.0</td>\n",
       "      <td>🌸🌸🌸\\n김길동, 나 막차 타써 잘해찌 ?!\\n너무굿👍👍❤️\\nㅠㅠㅠ귀여웡ㅠㅠㅠ🌸🌸...</td>\n",
       "      <td>6</td>\n",
       "      <td>0</td>\n",
       "      <td>2024.04.30. 23:48</td>\n",
       "      <td>naver</td>\n",
       "      <td>cafe</td>\n",
       "    </tr>\n",
       "    <tr>\n",
       "      <th>1</th>\n",
       "      <td>4월 활동일지 이지윤 - KAWACHI AKIHA</td>\n",
       "      <td>\\n\\n\\n\\n\\n\\n\\n\\n\\n&lt; 날짜 : 2024년 4월 1일 월요일 &gt; &lt; 만...</td>\n",
       "      <td>0.0</td>\n",
       "      <td>0.0</td>\n",
       "      <td>\\n</td>\n",
       "      <td>13</td>\n",
       "      <td>0</td>\n",
       "      <td>2024.04.30. 22:53</td>\n",
       "      <td>naver</td>\n",
       "      <td>cafe</td>\n",
       "    </tr>\n",
       "    <tr>\n",
       "      <th>2</th>\n",
       "      <td>청주 타이어 싼곳 성지 교체 추천 공기압 중고 전문점 TOP 5</td>\n",
       "      <td>\\n\\n\\n\\n\\n\\n\\n\\n\\n​​청주 벚꽃 축제에 참가하신 분들께는 쉐보레 이쿼...</td>\n",
       "      <td>0.0</td>\n",
       "      <td>0.0</td>\n",
       "      <td>\\n</td>\n",
       "      <td>0</td>\n",
       "      <td>0</td>\n",
       "      <td>2024.04.30. 22:10</td>\n",
       "      <td>naver</td>\n",
       "      <td>cafe</td>\n",
       "    </tr>\n",
       "    <tr>\n",
       "      <th>3</th>\n",
       "      <td>[4월여행일기]벚꽃을 기대했지만 다음기회에</td>\n",
       "      <td>\\n\\n\\n\\n\\n\\n\\n\\n\\n일정3/29(일)~4/01(월)\\n1박2일\\n\\n\\...</td>\n",
       "      <td>0.0</td>\n",
       "      <td>0.0</td>\n",
       "      <td>\\n</td>\n",
       "      <td>53</td>\n",
       "      <td>0</td>\n",
       "      <td>2024.04.30. 20:01</td>\n",
       "      <td>naver</td>\n",
       "      <td>cafe</td>\n",
       "    </tr>\n",
       "    <tr>\n",
       "      <th>4</th>\n",
       "      <td>모모 활동을 마무리하며:)</td>\n",
       "      <td>\\n\\n\\n\\n\\n\\n\\n\\n\\n\\n\\n\\n\\n\\n\\n\\n\\n\\n\\n\\n​​올 봄에...</td>\n",
       "      <td>0.0</td>\n",
       "      <td>0.0</td>\n",
       "      <td>\\n</td>\n",
       "      <td>1</td>\n",
       "      <td>0</td>\n",
       "      <td>2024.04.30. 19:59</td>\n",
       "      <td>naver</td>\n",
       "      <td>cafe</td>\n",
       "    </tr>\n",
       "  </tbody>\n",
       "</table>\n",
       "</div>"
      ],
      "text/plain": [
       "                                 title  \\\n",
       "0                 <1조> 허영선 : 24시간이 모자라   \n",
       "1          4월 활동일지 이지윤 - KAWACHI AKIHA   \n",
       "2  청주 타이어 싼곳 성지 교체 추천 공기압 중고 전문점 TOP 5   \n",
       "3              [4월여행일기]벚꽃을 기대했지만 다음기회에   \n",
       "4                       모모 활동을 마무리하며:)   \n",
       "\n",
       "                                                 doc  like comment_cnt  \\\n",
       "0  \\n\\n\\n\\n\\n\\n\\n\\n\\n1) 활동 일시와 장소[일시] 2024년 4월 6일...   1.0         4.0   \n",
       "1  \\n\\n\\n\\n\\n\\n\\n\\n\\n< 날짜 : 2024년 4월 1일 월요일 > < 만...   0.0         0.0   \n",
       "2  \\n\\n\\n\\n\\n\\n\\n\\n\\n​​청주 벚꽃 축제에 참가하신 분들께는 쉐보레 이쿼...   0.0         0.0   \n",
       "3  \\n\\n\\n\\n\\n\\n\\n\\n\\n일정3/29(일)~4/01(월)\\n1박2일\\n\\n\\...   0.0         0.0   \n",
       "4  \\n\\n\\n\\n\\n\\n\\n\\n\\n\\n\\n\\n\\n\\n\\n\\n\\n\\n\\n\\n​​올 봄에...   0.0         0.0   \n",
       "\n",
       "                                        comment_list  img  div  \\\n",
       "0  🌸🌸🌸\\n김길동, 나 막차 타써 잘해찌 ?!\\n너무굿👍👍❤️\\nㅠㅠㅠ귀여웡ㅠㅠㅠ🌸🌸...    6    0   \n",
       "1                                                 \\n   13    0   \n",
       "2                                                 \\n    0    0   \n",
       "3                                                 \\n   53    0   \n",
       "4                                                 \\n    1    0   \n",
       "\n",
       "                date     ch   ch2  \n",
       "0  2024.04.30. 23:48  naver  cafe  \n",
       "1  2024.04.30. 22:53  naver  cafe  \n",
       "2  2024.04.30. 22:10  naver  cafe  \n",
       "3  2024.04.30. 20:01  naver  cafe  \n",
       "4  2024.04.30. 19:59  naver  cafe  "
      ]
     },
     "execution_count": 25,
     "metadata": {},
     "output_type": "execute_result"
    }
   ],
   "source": [
    "cafe.head()"
   ]
  },
  {
   "cell_type": "code",
   "execution_count": null,
   "id": "b4eb35df",
   "metadata": {},
   "outputs": [],
   "source": []
  }
 ],
 "metadata": {
  "kernelspec": {
   "display_name": "Python 3 (ipykernel)",
   "language": "python",
   "name": "python3"
  },
  "language_info": {
   "codemirror_mode": {
    "name": "ipython",
    "version": 3
   },
   "file_extension": ".py",
   "mimetype": "text/x-python",
   "name": "python",
   "nbconvert_exporter": "python",
   "pygments_lexer": "ipython3",
   "version": "3.9.7"
  }
 },
 "nbformat": 4,
 "nbformat_minor": 5
}
